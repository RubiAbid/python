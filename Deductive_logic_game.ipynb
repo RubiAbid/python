{
  "nbformat": 4,
  "nbformat_minor": 0,
  "metadata": {
    "colab": {
      "provenance": [],
      "authorship_tag": "ABX9TyMhBHGf5i7vkaMuvrGAaAYQ",
      "include_colab_link": true
    },
    "kernelspec": {
      "name": "python3",
      "display_name": "Python 3"
    },
    "language_info": {
      "name": "python"
    }
  },
  "cells": [
    {
      "cell_type": "markdown",
      "metadata": {
        "id": "view-in-github",
        "colab_type": "text"
      },
      "source": [
        "<a href=\"https://colab.research.google.com/github/RubiAbid/python/blob/main/Deductive_logic_game.ipynb\" target=\"_parent\"><img src=\"https://colab.research.google.com/assets/colab-badge.svg\" alt=\"Open In Colab\"/></a>"
      ]
    },
    {
      "cell_type": "code",
      "execution_count": 3,
      "metadata": {
        "colab": {
          "base_uri": "https://localhost:8080/"
        },
        "id": "fH1cSWYPbPcW",
        "outputId": "84062429-5ba5-4781-a694-074ec93b60f4"
      },
      "outputs": [
        {
          "output_type": "stream",
          "name": "stdout",
          "text": [
            "\t****  WELCOME TO GUESSING GAME   ****\n",
            "Guess a 3-digit number: 456\n",
            "❌ (Digit 1 is Wrong) | ❌ (Digit 2 is Wrong) | 👌 (Digit 3 is Correct)\n",
            "Guess a 3-digit number: 126\n",
            "👍 (Digit 1 is Ok but in the wrong place) | ❌ (Digit 2 is Wrong) | 👌 (Digit 3 is Correct)\n",
            "Guess a 3-digit number: 316\n",
            "❌ (Digit 1 is Wrong) | 👌 (Digit 2 is Correct) | 👌 (Digit 3 is Correct)\n",
            "Guess a 3-digit number: 516\n",
            "❌ (Digit 1 is Wrong) | 👌 (Digit 2 is Correct) | 👌 (Digit 3 is Correct)\n",
            "Guess a 3-digit number: 716\n",
            "❌ (Digit 1 is Wrong) | 👌 (Digit 2 is Correct) | 👌 (Digit 3 is Correct)\n",
            "Guess a 3-digit number: 816\n",
            "❌ (Digit 1 is Wrong) | 👌 (Digit 2 is Correct) | 👌 (Digit 3 is Correct)\n",
            "Guess a 3-digit number: 916\n",
            "🎉 Congratulations! You guessed the correct number 916 in 7 attempts.\n"
          ]
        }
      ],
      "source": [
        "import random\n",
        "\n",
        "lowest_num = 100\n",
        "highest_num = 999\n",
        "guesses = 0\n",
        "answer = str(random.randint(lowest_num, highest_num))  # Convert answer to string\n",
        "is_running = True\n",
        "\n",
        "print(\"\\t****  WELCOME TO GUESSING GAME   ****\")\n",
        "\n",
        "while is_running:\n",
        "    guess = input(\"Guess a 3-digit number: \")\n",
        "\n",
        "    try:\n",
        "        guess = int(guess)  # Try converting the input to an integer\n",
        "\n",
        "        if lowest_num <= guess <= highest_num:\n",
        "            guess = str(guess)  # Convert guess to string for digit comparison\n",
        "            guesses += 1  # Count the number of guesses\n",
        "\n",
        "            # Check if the guess is completely correct\n",
        "            if guess == answer:\n",
        "                print(f\"🎉 Congratulations! You guessed the correct number {answer} in {guesses} attempts.\")\n",
        "                break  # Stop the game\n",
        "\n",
        "            # Store feedback messages\n",
        "            feedback = []\n",
        "\n",
        "            for i in range(3):  # Loop through each digit\n",
        "                if guess[i] == answer[i]:\n",
        "                    feedback.append(f\"👌 (Digit {i+1} is Correct)\")\n",
        "                elif guess[i] in answer:\n",
        "                    feedback.append(f\"👍 (Digit {i+1} is Ok but in the wrong place)\")\n",
        "                else:\n",
        "                    feedback.append(f\"❌ (Digit {i+1} is Wrong)\")\n",
        "\n",
        "            # Display feedback\n",
        "            print(\" | \".join(feedback))  # Format output properly\n",
        "\n",
        "            # Stop game after 10 incorrect attempts\n",
        "            if guesses >= 10:\n",
        "                print(\"😞 You had only 10 attempts to guess the number.\")\n",
        "                print(f\"The secret number was {answer}\")\n",
        "                break\n",
        "\n",
        "        else:\n",
        "            print(\"The number is out of range. Please enter a three-digit number.\")\n",
        "\n",
        "    except ValueError:\n",
        "        print(\"Invalid input. Please enter a three-digit number.\")\n"
      ]
    }
  ]
}