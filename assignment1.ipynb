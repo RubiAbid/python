{
  "nbformat": 4,
  "nbformat_minor": 0,
  "metadata": {
    "colab": {
      "provenance": [],
      "authorship_tag": "ABX9TyNTW433JdII4MFLVuqiO81T",
      "include_colab_link": true
    },
    "kernelspec": {
      "name": "python3",
      "display_name": "Python 3"
    },
    "language_info": {
      "name": "python"
    }
  },
  "cells": [
    {
      "cell_type": "markdown",
      "metadata": {
        "id": "view-in-github",
        "colab_type": "text"
      },
      "source": [
        "<a href=\"https://colab.research.google.com/github/RubiAbid/python/blob/main/assignment1.ipynb\" target=\"_parent\"><img src=\"https://colab.research.google.com/assets/colab-badge.svg\" alt=\"Open In Colab\"/></a>"
      ]
    },
    {
      "cell_type": "code",
      "execution_count": null,
      "metadata": {
        "colab": {
          "base_uri": "https://localhost:8080/"
        },
        "id": "hGaskPXYrJTy",
        "outputId": "9308de2f-eb95-46e8-c419-809e0ee8e59f"
      },
      "outputs": [
        {
          "output_type": "stream",
          "name": "stdout",
          "text": [
            "\n",
            "📌 Enter Student Name: Rubi\n",
            "📌 Enter Roll Number: 1920111\n",
            "📘 Enter Mathematics marks: 87\n",
            "📘 Enter Physics marks: 65\n",
            "📘 Enter English marks: 56\n",
            "📘 Enter Urdu marks: 45\n",
            "\n",
            "✅ Record of Rubi (Roll No: 1920111) inserted successfully.\n",
            "\n",
            "🔄 Do you want to insert more? Press 'Y' for Yes or 'N' for No: n\n",
            "\n",
            " **Student Report**\n",
            "📌 Name: Rubi\n",
            "📌 Roll Number: 1920111\n",
            "📌 Total Marks: 253 / 400\n",
            "📌 Percentage: 63.25%\n",
            "🥈 ** Grade: B **\n",
            "\n",
            "📌 Thank you for using the Student Report System! \n"
          ]
        }
      ],
      "source": [
        "while True:\n",
        "    try:\n",
        "        # Getting student details\n",
        "        input_user = input(\"\\n📌 Enter Student Name: \").strip()\n",
        "        rollNum = input(\"📌 Enter Roll Number: \").strip()\n",
        "\n",
        "        # Getting marks with error handling\n",
        "        Maths = int(input(\"📘 Enter Mathematics marks: \"))\n",
        "        Physics = int(input(\"📘 Enter Physics marks: \"))\n",
        "        English = int(input(\"📘 Enter English marks: \"))\n",
        "        Urdu = int(input(\"📘 Enter Urdu marks: \"))\n",
        "\n",
        "        # Validate marks (should be between 0-100)\n",
        "        if not (0 <= Maths <= 100 and 0 <= Physics <= 100 and 0 <= English <= 100 and 0 <= Urdu <= 100):\n",
        "            print(\"⚠️ Error: Marks must be between 0 and 100. Please enter valid marks.\")\n",
        "            continue  # Restart loop to re-enter data\n",
        "\n",
        "        # Confirmation message\n",
        "        print(f\"\\n✅ Record of {input_user} (Roll No: {rollNum}) inserted successfully.\\n\")\n",
        "\n",
        "        # Asking if the user wants to continue\n",
        "        while True:\n",
        "            choice = input(\"🔄 Do you want to insert more? Press 'Y' for Yes or 'N' for No: \").strip().lower()\n",
        "            if choice in [\"y\", \"n\"]:\n",
        "                break  # Valid input, continue\n",
        "            print(\"⚠️ Invalid choice! Please enter 'Y' or 'N'.\")\n",
        "\n",
        "        # If user chooses 'No', calculate the grade\n",
        "        if choice == \"n\":\n",
        "            total = Maths + Physics + English + Urdu\n",
        "            percentage = (total / 400) * 100\n",
        "\n",
        "            print(\"\\n **Student Report**\")\n",
        "            print(f\"📌 Name: {input_user}\")\n",
        "            print(f\"📌 Roll Number: {rollNum}\")\n",
        "            print(f\"📌 Total Marks: {total} / 400\")\n",
        "            print(f\"📌 Percentage: {percentage:.2f}%\")\n",
        "\n",
        "            # Determine grade\n",
        "            if 80 <= percentage <= 100:\n",
        "                print(\"🏆 ** Grade: A+ **\")\n",
        "            elif 70 <= percentage < 80:\n",
        "                print(\"🎖 ** Grade: A** \")\n",
        "            elif 60 <= percentage < 70:\n",
        "                print(\"🥈 ** Grade: B **\")\n",
        "            elif 50 <= percentage < 60:\n",
        "                print(\"🥉 ** Grade: C **\")\n",
        "            else:\n",
        "                print(\"❌ ** Grade: F (Failed) **\")\n",
        "\n",
        "            print(\"\\n📌 Thank you for using the Student Report System! \")\n",
        "            break  # Exit loop if user chooses 'No'\n",
        "\n",
        "    except ValueError:\n",
        "        print(\"⚠️ Error: Please enter valid numeric values for marks.\")\n"
      ]
    }
  ]
}