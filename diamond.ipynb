{
  "nbformat": 4,
  "nbformat_minor": 0,
  "metadata": {
    "colab": {
      "provenance": [],
      "authorship_tag": "ABX9TyN73mG7YG28GjgIGd4QcN/8",
      "include_colab_link": true
    },
    "kernelspec": {
      "name": "python3",
      "display_name": "Python 3"
    },
    "language_info": {
      "name": "python"
    }
  },
  "cells": [
    {
      "cell_type": "markdown",
      "metadata": {
        "id": "view-in-github",
        "colab_type": "text"
      },
      "source": [
        "<a href=\"https://colab.research.google.com/github/RubiAbid/python/blob/main/diamond.ipynb\" target=\"_parent\"><img src=\"https://colab.research.google.com/assets/colab-badge.svg\" alt=\"Open In Colab\"/></a>"
      ]
    },
    {
      "cell_type": "code",
      "execution_count": 1,
      "metadata": {
        "colab": {
          "base_uri": "https://localhost:8080/"
        },
        "id": "3f0FczfJaPlH",
        "outputId": "54be304d-92bc-4a7e-be85-6ba6d6fb4c07"
      },
      "outputs": [
        {
          "output_type": "stream",
          "name": "stdout",
          "text": [
            "    *\n",
            "   ***\n",
            "  *****\n",
            " *******\n",
            "*********\n",
            "*********\n",
            " *******\n",
            "  *****\n",
            "   ***\n",
            "    *\n"
          ]
        }
      ],
      "source": [
        "rows=5\n",
        "for i in range(1,rows*2,2):\n",
        "    spaces=(rows*2-i)//2\n",
        "    print(\" \"*spaces + \"*\" *i)\n",
        "\n",
        "for i in range(rows*2-1,0,-2):\n",
        "    spaces=(rows*2-i)//2\n",
        "    print(\" \"*spaces + \"*\" *i)\n"
      ]
    }
  ]
}